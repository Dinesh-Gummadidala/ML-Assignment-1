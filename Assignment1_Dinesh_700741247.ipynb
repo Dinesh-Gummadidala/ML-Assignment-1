{
 "cells": [
  {
   "cell_type": "code",
   "execution_count": 8,
   "id": "2e6b866a",
   "metadata": {},
   "outputs": [
    {
     "name": "stdout",
     "output_type": "stream",
     "text": [
      "Maximun is  26\n",
      "Minimum is 19\n",
      "Average of ages is  22.75\n",
      "Range is  7\n"
     ]
    }
   ],
   "source": [
    "ages = [19, 22, 19, 24, 20, 25, 26, 24, 25, 24]\n",
    "ages.sort()                                 #Sorts the ages array\n",
    "Maximum=max(ages)                           #Gives the maximum of ages\n",
    "Minimum=min(ages)                           #Gives the minimum of ages\n",
    "print(\"Maximun is \", Maximum)\n",
    "print(\"Minimum is\",Minimum)     #Prints the Maximum and the minimum\n",
    "\n",
    "ages.append(max(ages))  #addiding the maximum of age to the ages array     \n",
    "ages.append(min(ages)) #addiding the minimum of age to the ages array\n",
    "\n",
    "#Finding the median of ages\n",
    "length = len(ages)\n",
    "if(length%2 != 0):                 #If the length of array is odd, then the median of array is the average of middle 2 elements\n",
    "    Median =  ages[length//2]\n",
    "\n",
    "else:                               #If the length of array is even, then the median is the middle element\n",
    "    Median =  (ages[length//2]+ ages[(length//2) +1])//2\n",
    "\n",
    "SumOfAges=sum(ages)                                  # Gives the sum of all the ages.\n",
    "print(\"Average of ages is \",SumOfAges/len(ages))     #Sum of the ages divided by number of ages gives the average of ages\n",
    "Range=Maximum-Minimum\n",
    "#Range = Maximum - Minimum\n",
    "print(\"Range is \",Range)                               #  Prints of its range"
   ]
  },
  {
   "cell_type": "code",
   "execution_count": 9,
   "id": "3c2c1fa0",
   "metadata": {},
   "outputs": [
    {
     "name": "stdout",
     "output_type": "stream",
     "text": [
      "Dog dictionary contains {'Name': 'MILO', 'Color': 'BROWN', 'Breed': 'BULL DOG', 'Legs': 4, 'Age': 3}\n",
      "Student dictionary contains {'First_name': 'Dinesh', 'Last_name': 'Gummadidala', 'Gender': 'Male', 'Age': 22, 'Marital_status': 'Single', 'Skills': ['Java', 'Python', 'C'], 'Country': 'India', 'City': 'Vijaywada', 'Address': 'Tiruvuru'}\n",
      "Length of student dictonary is  9\n",
      "Data type of value of skills <class 'list'>\n",
      "The list of the keys are ['First_name', 'Last_name', 'Gender', 'Age', 'Marital_status', 'Skills', 'Country', 'City', 'Address']\n",
      "The list of  values are ['Dinesh', 'Gummadidala', 'Male', 22, 'Single', ['Java', 'Python', 'C', 'SAP'], 'India', 'Vijaywada', 'Tiruvuru']\n"
     ]
    }
   ],
   "source": [
    "#Creating dictionary named dog and adding properties to it\n",
    "dog={}\n",
    "dog['Name']='MILO'\n",
    "dog['Color']='BROWN'\n",
    "dog['Breed']='BULL DOG'\n",
    "dog['Legs']=4\n",
    "dog['Age']=3\n",
    "\n",
    "print(\"Dog dictionary contains\",dog)                          # Printing the dog dictionary\n",
    "#Creating student dictionary\n",
    "Student={}\n",
    "#Adding values to student dictionary\n",
    "Student[\"First_name\"]='Dinesh'\n",
    "Student[\"Last_name\"]='Gummadidala'\n",
    "Student[\"Gender\"]='Male'\n",
    "Student[\"Age\"]=22\n",
    "Student[\"Marital_status\"]='Single'\n",
    "Student['Skills']=['Java',\"Python\",\"C\"]\n",
    "Student[\"Country\"]=\"India\"\n",
    "Student['City']=\"Vijaywada\"\n",
    "Student[\"Address\"]=\"Tiruvuru\"\n",
    "print(\"Student dictionary contains\",Student)                    # Printing the student dictionary\n",
    "print(\"Length of student dictonary is \",len(Student))           # Prints the length\n",
    "print(\"Data type of value of skills\",type(Student['Skills']))   # Prints the type of values of skills\n",
    "Student['Skills'].append('SAP')                                 # Adding SAP to stundent skills\n",
    "print(\"The list of the keys are\",list(Student.keys())) \n",
    "print(\"The list of  values are\",list(Student.values()))"
   ]
  },
  {
   "cell_type": "code",
   "execution_count": 10,
   "id": "5f8a4f43",
   "metadata": {},
   "outputs": [
    {
     "name": "stdout",
     "output_type": "stream",
     "text": [
      "Siblings are ('AKSHAYA', 'SWATHI', 'VYSHALI', 'ARUN', 'YASWANTH')\n",
      "Total Number of Siblings: 5\n",
      "The Family Members are ('AKSHAYA', 'SWATHI', 'VYSHALI', 'ARUN', 'YASWANTH', 'RAMA KRISHNA', 'MAHESWARI')\n"
     ]
    }
   ],
   "source": [
    "Sisters=('AKSHAYA','SWATHI','VYSHALI')                                #  Tuple of Sisters\n",
    "Brothers=('ARUN','YASWANTH')                                          #  Tuple of Brothers\n",
    "Siblings=Sisters+Brothers                                #Creating new tuple called siblings which contains brothers and sisters\n",
    "print(\"Siblings are\",Siblings)\n",
    "print(\"Total Number of Siblings:\",len(Siblings))\n",
    "Family_members=Siblings+('RAMA KRISHNA',\"MAHESWARI\")         # Creating family numbers tuple and adding parents names to it.\n",
    "print(\"The Family Members are\",Family_members)"
   ]
  },
  {
   "cell_type": "code",
   "execution_count": 11,
   "id": "e9247e04",
   "metadata": {},
   "outputs": [
    {
     "name": "stdout",
     "output_type": "stream",
     "text": [
      "Length of it_companies 7\n",
      "it_comapanies are {'FACEBOOK', 'Twitter', 'APPLE', 'IBM', 'GOOGLE', 'ORACLE', 'MICROSOFT', 'AMAZON'}\n",
      "Updated the it companies are {'APPLE', 'IBM', 'GOOGLE', 'ORACLE', 'AMAZON', 'TECHOUTS', 'FACEBOOK', 'INFOSYIS', 'ACCENTURE', 'Twitter', 'MICROSOFT'}\n",
      "Updated list: {'APPLE', 'IBM', 'GOOGLE', 'ORACLE', 'AMAZON', 'FACEBOOK', 'INFOSYIS', 'ACCENTURE', 'Twitter', 'MICROSOFT'}\n",
      "A Union B is: {19, 20, 22, 24, 25, 26, 27, 28}\n",
      "A Intersection B is:  {19, 20, 22, 24, 25, 26}\n",
      "True\n",
      "False\n",
      "Joining A with B {19, 20, 22, 24, 25, 26, 27, 28}\n",
      "Joining B with A {19, 20, 22, 24, 25, 26, 27, 28}\n",
      "Symmetric diffrence beteween A and B {27, 28}\n",
      "None\n",
      "None\n",
      "None\n",
      "Set of ages: {19, 22, 24, 25, 26}\n",
      "Length of set of list is:  5\n",
      "Lenght of set is : 8\n"
     ]
    }
   ],
   "source": [
    "#creating a new set of IT Companies.\n",
    "it_companies = {'FACEBOOK', 'GOOGLE', 'MICROSOFT', 'APPLE', 'IBM', 'ORACLE', 'AMAZON'}\n",
    "#Creating set Á'\n",
    "A = {19, 22, 24, 20, 25, 26}\n",
    "#Creating set B\n",
    "B = {19, 22, 20, 25, 26, 24, 28, 27}\n",
    "#Creating a list of ages\n",
    "age = [22, 19, 24, 25, 26, 24, 25, 24]\n",
    "print(\"Length of it_companies\",len(it_companies))\n",
    "it_companies.add('Twitter')                               #Adding Twitter to the it_companies\n",
    "print(\"it_comapanies are\",it_companies) \n",
    "it_companies.update({'TECHOUTS','ACCENTURE',\"INFOSYIS\"})  #Adding the multiple of IT Companies to actual\n",
    "print(\"Updated the it companies are\",it_companies) \n",
    "it_companies.remove('TECHOUTS')                           #Removing techouts from the it_companies list.\n",
    "print(\"Updated list:\",it_companies)\n",
    "\n",
    "#Discard() Method removes the specific element and shows no error when the element is not present\n",
    "#Remove() it works same as discard method but it shows the error when the element is not there. \n",
    "\n",
    "print(\"A Union B is:\",A.union(B))                                            #prints A union B\n",
    "print(\"A Intersection B is: \",A.intersection(B))                             #prints A intersection B\n",
    "print(A.issubset(B))                                                         #Checking is A is the subset of B\n",
    "print(A.isdisjoint(B))                                                       #Cheking whether the A and B are disjoint sets\n",
    "print(\"Joining A with B\",A.union(B)) \n",
    "print(\"Joining B with A\",B.union(A))\n",
    "print(\"Symmetric diffrence beteween A and B\",A.symmetric_difference(B))  \n",
    "print(A.clear())                                                              #Deleting set A\n",
    "print(B.clear())                                                              #Deleting set B\n",
    "print(it_companies.clear())                                                   #Deleting set it_companies\n",
    "print(\"Set of ages:\",set(age))                                                #Creating set of the ages\n",
    "print(\"Length of set of list is: \",len(set(age)))\n",
    "print(\"Lenght of set is :\",len(age))\n"
   ]
  },
  {
   "cell_type": "code",
   "execution_count": 12,
   "id": "b7600c88",
   "metadata": {},
   "outputs": [
    {
     "name": "stdout",
     "output_type": "stream",
     "text": [
      "Area of the Circle is:  2827\n",
      "Circumference  of the Circle is  188\n",
      "Enter the Radius 34\n",
      "Area of the Circle is:  3631\n"
     ]
    }
   ],
   "source": [
    "import math                                                                # Importing math package\n",
    "Radius=30                                                                  # Intializing radius with 30\n",
    "_area_of_circle_= int(math.pi*(Radius**2))                                 #Calculating the area of circle\n",
    "print(\"Area of the Circle is: \",_area_of_circle_)\n",
    "_circum_of_circle_= int(2*math.pi*Radius)                                  #Calculating the circumference of circle\n",
    "print(\"Circumference  of the Circle is \",_circum_of_circle_)\n",
    "radius=int(input(\"Enter the Radius \"))                                        #Taking input radius\n",
    "print(\"Area of the Circle is: \",int(math.pi*(radius**2))) "
   ]
  },
  {
   "cell_type": "code",
   "execution_count": 13,
   "id": "65bffea0",
   "metadata": {},
   "outputs": [
    {
     "name": "stdout",
     "output_type": "stream",
     "text": [
      " No of unique words in the given phrases are:  11\n"
     ]
    }
   ],
   "source": [
    "Phrase=\" I am a teacher and I love to inspire and teach People \"\n",
    "print(\" No of unique words in the given phrases are: \",len(set(Phrase.split(' '))))"
   ]
  },
  {
   "cell_type": "code",
   "execution_count": 14,
   "id": "e303f5d1",
   "metadata": {},
   "outputs": [
    {
     "name": "stdout",
     "output_type": "stream",
     "text": [
      "NAME\tAGE\tCOUNTRY\tCITY\n",
      "ASABENSH\t250\tFINLAND\tHELSINKI\n"
     ]
    }
   ],
   "source": [
    "print(\"NAME\\tAGE\\tCOUNTRY\\tCITY\")                          # Printing the Strings Using Tab space sequence\n",
    "print(\"ASABENSH\\t250\\tFINLAND\\tHELSINKI\")"
   ]
  },
  {
   "cell_type": "code",
   "execution_count": 15,
   "id": "784b9d64",
   "metadata": {},
   "outputs": [
    {
     "name": "stdout",
     "output_type": "stream",
     "text": [
      "The area of a circle with radius 10 is 314 meters square.\n"
     ]
    }
   ],
   "source": [
    "Radius=10                                                               # Initlizing   the Radius with 10\n",
    "Area=3.14*Radius**2                                                     # Calculating  the area of the circle\n",
    "print(\"The area of a circle with radius 10 is {0} meters square.\".format(int(Area)))"
   ]
  },
  {
   "cell_type": "code",
   "execution_count": 16,
   "id": "f2042316",
   "metadata": {},
   "outputs": [
    {
     "name": "stdout",
     "output_type": "stream",
     "text": [
      "Enter the number of the students 2\n",
      "Enter the weight of the student  1 :23\n",
      "Enter the weight of the student  2 :43\n",
      "Converted list:  [10.41383681970479, 19.469347097708955]\n"
     ]
    }
   ],
   "source": [
    "Weights=[]                                                                    #Creating the Weights list\n",
    "N=int(input(\"Enter the number of the students \"))                                      #Taking input\n",
    "for i in range(N):\n",
    "    Weights.append(int(input(\"Enter the weight of the student  \"+str(i+1)+\" :\")))\n",
    "KiloGrams=[]                                                                #Creating Kilograms list\n",
    "for i in Weights:\n",
    "    KiloGrams.append(float(i/2.2086))                                        #Converting Pounds to Kilograms\n",
    "print(\"Converted list: \",KiloGrams)\n"
   ]
  },
  {
   "cell_type": "markdown",
   "id": "10870176",
   "metadata": {},
   "source": []
  }
 ],
 "metadata": {
  "kernelspec": {
   "display_name": "Python 3 (ipykernel)",
   "language": "python",
   "name": "python3"
  },
  "language_info": {
   "codemirror_mode": {
    "name": "ipython",
    "version": 3
   },
   "file_extension": ".py",
   "mimetype": "text/x-python",
   "name": "python",
   "nbconvert_exporter": "python",
   "pygments_lexer": "ipython3",
   "version": "3.9.12"
  }
 },
 "nbformat": 4,
 "nbformat_minor": 5
}
